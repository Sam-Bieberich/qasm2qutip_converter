{
 "cells": [
  {
   "cell_type": "markdown",
   "id": "1c29d476",
   "metadata": {},
   "source": [
    "## Imports"
   ]
  },
  {
   "cell_type": "code",
   "execution_count": 42,
   "id": "beeaabae",
   "metadata": {},
   "outputs": [],
   "source": [
    "import numpy as np\n",
    "from qutip import about, basis, rand_ket, tensor\n",
    "from qutip_qip.operations import Measurement\n",
    "from qutip_qip.operations.gates import gate_sequence_product\n",
    "from qutip_qip.qasm import read_qasm, print_qasm"
   ]
  },
  {
   "cell_type": "markdown",
   "id": "4c314541",
   "metadata": {},
   "source": [
    "Random circuits: https://docs.quantum.ibm.com/api/qiskit/circuit_random#random-circuits"
   ]
  },
  {
   "cell_type": "code",
   "execution_count": null,
   "id": "5426e7d4",
   "metadata": {},
   "outputs": [
    {
     "data": {
      "text/html": [
       "<pre style=\"word-wrap: normal;white-space: pre;background: #fff0;line-height: 1.1;font-family: &quot;Courier New&quot;,Courier,monospace\">               ┌─────┐┌────┐┌──────┐┌───┐          ┌──────┐┌───┐┌───┐┌──────┐»\n",
       "q_0: ───────■──┤ Sdg ├┤ √X ├┤1     ├┤ Y ├───────■──┤0     ├┤ Z ├┤ X ├┤ √Xdg ├»\n",
       "     ┌───┐┌─┴─┐└─────┘└────┘│  Dcx │└─┬─┘┌───┐┌─┴─┐│      │└───┘└───┘└──────┘»\n",
       "q_1: ┤ H ├┤ Y ├───■─────────┤0     ├──┼──┤ I ├┤ X ├┤  Ecr ├──────────────────»\n",
       "     ├───┤└───┘ ┌─┴─┐       └──────┘  │  ├───┤├───┤│      │┌───┐             »\n",
       "q_2: ┤ Y ├──────┤ Y ├─────────────────■──┤ I ├┤ H ├┤1     ├┤ H ├─────────────»\n",
       "     └───┘      └───┘                    └───┘└───┘└──────┘└───┘             »\n",
       "«          ┌───┐┌───┐\n",
       "«q_0: ──■──┤ X ├┤ X ├\n",
       "«     ┌─┴─┐└───┘└───┘\n",
       "«q_1: ┤ Y ├──────────\n",
       "«     └───┘          \n",
       "«q_2: ───────────────\n",
       "«                    </pre>"
      ],
      "text/plain": [
       "               ┌─────┐┌────┐┌──────┐┌───┐          ┌──────┐┌───┐┌───┐┌──────┐»\n",
       "q_0: ───────■──┤ Sdg ├┤ √X ├┤1     ├┤ Y ├───────■──┤0     ├┤ Z ├┤ X ├┤ √Xdg ├»\n",
       "     ┌───┐┌─┴─┐└─────┘└────┘│  Dcx │└─┬─┘┌───┐┌─┴─┐│      │└───┘└───┘└──────┘»\n",
       "q_1: ┤ H ├┤ Y ├───■─────────┤0     ├──┼──┤ I ├┤ X ├┤  Ecr ├──────────────────»\n",
       "     ├───┤└───┘ ┌─┴─┐       └──────┘  │  ├───┤├───┤│      │┌───┐             »\n",
       "q_2: ┤ Y ├──────┤ Y ├─────────────────■──┤ I ├┤ H ├┤1     ├┤ H ├─────────────»\n",
       "     └───┘      └───┘                    └───┘└───┘└──────┘└───┘             »\n",
       "«          ┌───┐┌───┐\n",
       "«q_0: ──■──┤ X ├┤ X ├\n",
       "«     ┌─┴─┐└───┘└───┘\n",
       "«q_1: ┤ Y ├──────────\n",
       "«     └───┘          \n",
       "«q_2: ───────────────\n",
       "«                    "
      ]
     },
     "execution_count": 43,
     "metadata": {},
     "output_type": "execute_result"
    }
   ],
   "source": [
    "#make a random quantum circuit with qiskit\n",
    "\n",
    "from qiskit.circuit.random import random_clifford_circuit\n",
    " \n",
    "qiskit_circ = random_clifford_circuit(num_qubits=2, num_gates=100)\n",
    "qiskit_circ.draw()"
   ]
  },
  {
   "cell_type": "markdown",
   "id": "a87b084c",
   "metadata": {},
   "source": [
    "Convert to qasm via Qiskit: https://docs.quantum.ibm.com/api/qiskit/qasm2#exporting-examples"
   ]
  },
  {
   "cell_type": "code",
   "execution_count": 44,
   "id": "83494a9c",
   "metadata": {},
   "outputs": [
    {
     "name": "stdout",
     "output_type": "stream",
     "text": [
      "OPENQASM 2.0;\n",
      "include \"qelib1.inc\";\n",
      "gate dcx q0,q1 { cx q0,q1; cx q1,q0; }\n",
      "gate rzx(param0) q0,q1 { h q1; cx q0,q1; rz(param0) q1; cx q0,q1; h q1; }\n",
      "gate ecr q0,q1 { rzx(pi/4) q0,q1; x q0; rzx(-pi/4) q0,q1; }\n",
      "qreg q[3];\n",
      "y q[2];\n",
      "h q[1];\n",
      "cy q[0],q[1];\n",
      "sdg q[0];\n",
      "cy q[1],q[2];\n",
      "sx q[0];\n",
      "dcx q[1],q[0];\n",
      "cy q[2],q[0];\n",
      "id q[1];\n",
      "id q[2];\n",
      "cx q[0],q[1];\n",
      "h q[2];\n",
      "ecr q[0],q[2];\n",
      "z q[0];\n",
      "x q[0];\n",
      "sxdg q[0];\n",
      "h q[2];\n",
      "cy q[0],q[1];\n",
      "x q[0];\n",
      "x q[0];\n"
     ]
    }
   ],
   "source": [
    "import qiskit.qasm2\n",
    "from qiskit.circuit import QuantumCircuit\n",
    " \n",
    "print(qiskit.qasm2.dumps(qiskit_circ))"
   ]
  },
  {
   "cell_type": "code",
   "execution_count": 45,
   "id": "e5c73133",
   "metadata": {},
   "outputs": [],
   "source": [
    "#Now add it to a file for clarity\n",
    "\n",
    "qiskit.qasm2.dump(qiskit_circ, \"random_circuit.qasm\")\n",
    "path = \"random_circuit.qasm\""
   ]
  },
  {
   "cell_type": "markdown",
   "id": "eb9410cd",
   "metadata": {},
   "source": [
    "## QASM Completed ^"
   ]
  },
  {
   "cell_type": "markdown",
   "id": "de5e47f4",
   "metadata": {},
   "source": [
    "## QASM Conversion "
   ]
  },
  {
   "cell_type": "markdown",
   "id": "b651c3a2",
   "metadata": {},
   "source": [
    "### Imports"
   ]
  },
  {
   "cell_type": "code",
   "execution_count": 46,
   "id": "e35283b9",
   "metadata": {},
   "outputs": [],
   "source": [
    "import numpy as np\n",
    "from qutip import about, basis, rand_ket, tensor\n",
    "from qutip_qip.operations import Measurement\n",
    "from qutip_qip.operations.gates import gate_sequence_product\n",
    "from qutip_qip.qasm import read_qasm, print_qasm"
   ]
  },
  {
   "cell_type": "markdown",
   "id": "4b460007",
   "metadata": {},
   "source": [
    "### Read in the file to a string"
   ]
  },
  {
   "cell_type": "code",
   "execution_count": 47,
   "id": "f038c8b2",
   "metadata": {},
   "outputs": [],
   "source": [
    "with open(path, 'r') as file:\n",
    "    qasm_str = file.read()"
   ]
  },
  {
   "cell_type": "code",
   "execution_count": 48,
   "id": "b5bd1fcc",
   "metadata": {},
   "outputs": [
    {
     "data": {
      "text/plain": [
       "str"
      ]
     },
     "execution_count": 48,
     "metadata": {},
     "output_type": "execute_result"
    }
   ],
   "source": [
    "type(qasm_str)"
   ]
  },
  {
   "cell_type": "code",
   "execution_count": 49,
   "id": "0e8a83fd",
   "metadata": {},
   "outputs": [
    {
     "name": "stdout",
     "output_type": "stream",
     "text": [
      "OPENQASM 2.0;\n",
      "include \"qelib1.inc\";\n",
      "gate dcx q0,q1 { cx q0,q1; cx q1,q0; }\n",
      "gate rzx(param0) q0,q1 { h q1; cx q0,q1; rz(param0) q1; cx q0,q1; h q1; }\n",
      "gate ecr q0,q1 { rzx(pi/4) q0,q1; x q0; rzx(-pi/4) q0,q1; }\n",
      "qreg q[3];\n",
      "y q[2];\n",
      "h q[1];\n",
      "cy q[0],q[1];\n",
      "sdg q[0];\n",
      "cy q[1],q[2];\n",
      "sx q[0];\n",
      "dcx q[1],q[0];\n",
      "cy q[2],q[0];\n",
      "id q[1];\n",
      "id q[2];\n",
      "cx q[0],q[1];\n",
      "h q[2];\n",
      "ecr q[0],q[2];\n",
      "z q[0];\n",
      "x q[0];\n",
      "sxdg q[0];\n",
      "h q[2];\n",
      "cy q[0],q[1];\n",
      "x q[0];\n",
      "x q[0];\n",
      "\n"
     ]
    }
   ],
   "source": [
    "print(qasm_str)"
   ]
  },
  {
   "cell_type": "code",
   "execution_count": 50,
   "id": "477bd19a",
   "metadata": {},
   "outputs": [
    {
     "name": "stdout",
     "output_type": "stream",
     "text": [
      "global phase: 7π/4\n",
      "   ┌───┐┌───┐┌───┐\n",
      "q: ┤ S ├┤ H ├┤ S ├\n",
      "   └───┘└───┘└───┘\n"
     ]
    }
   ],
   "source": [
    "from qiskit.circuit.library import SXdgGate\n",
    "\n",
    "# Decompose the SXdg gate using Qiskit\n",
    "sxdg_gate = SXdgGate()\n",
    "decomposition_circuit = sxdg_gate.definition\n",
    "print(decomposition_circuit.draw())"
   ]
  },
  {
   "cell_type": "markdown",
   "id": "c1ab4372",
   "metadata": {},
   "source": [
    "### Append basic gate definitions to the string"
   ]
  },
  {
   "cell_type": "markdown",
   "id": "ff436afa",
   "metadata": {},
   "source": [
    "For more definitions, see this repo: https://github.com/HQSquantumsimulations/qoqo_qasm/blob/aff4aba03ae12e12599ed11b98c9b7ecaef0c021/roqoqo-qasm/src/interface.rs#L1345"
   ]
  },
  {
   "cell_type": "code",
   "execution_count": 51,
   "id": "c5346e0a",
   "metadata": {},
   "outputs": [],
   "source": [
    "# Insert gate definitions after the 'include' line in qasm_str\n",
    "\n",
    "swap_gate_def = [\n",
    "    'gate swap a, b{',\n",
    "    'cx b, a;',\n",
    "    'cx a, b;',\n",
    "    'cx b, a;',\n",
    "    '}'\n",
    "]\n",
    "\n",
    "sx_gate_def = [\n",
    "    'gate sx a {',\n",
    "    'u1(-pi/2) a;',\n",
    "    'u2(0,pi) a;',\n",
    "    'u1(-pi/2) a;',\n",
    "    '}'\n",
    "]\n",
    "\n",
    "sxdg_gate_def = [\n",
    "    'gate sxdg a {',\n",
    "    'u1(pi/2) a;',\n",
    "    'u2(0,pi) a;',\n",
    "    'u1(pi/2) a;',\n",
    "    '}'\n",
    "]\n",
    "\n",
    "lines = qasm_str.splitlines()\n",
    "for i, line in enumerate(lines):\n",
    "    if line.strip().startswith('include'):\n",
    "        insert_idx = i + 1\n",
    "        break\n",
    "\n",
    "gate_defs = swap_gate_def + [''] + sx_gate_def + [''] + sxdg_gate_def + ['']\n",
    "lines[insert_idx:insert_idx] = gate_defs\n",
    "qasm_str = '\\n'.join(lines)"
   ]
  },
  {
   "cell_type": "markdown",
   "id": "6b5f28b7",
   "metadata": {},
   "source": [
    "### Review the string using the built-in qasm to qutip conversion tools"
   ]
  },
  {
   "cell_type": "code",
   "execution_count": 52,
   "id": "9802cef8",
   "metadata": {},
   "outputs": [
    {
     "data": {
      "text/latex": [
       "Quantum object: dims=[[2, 2, 2], [2, 2, 2]], shape=(8, 8), type='oper', dtype=CSR, isherm=False$$\\left(\\begin{array}{cc}0 & (-0.354-0.354j) & 0 & (-0.354-0.354j) & 0 & (0.354+0.354j) & 0 & (-0.354-0.354j)\\\\0 & (0.354-0.354j) & 0 & (-0.354+0.354j) & 0 & (0.354-0.354j) & 0 & (0.354-0.354j)\\\\(0.354-0.354j) & 0 & (-0.354+0.354j) & 0 & (0.354-0.354j) & 0 & (0.354-0.354j) & 0\\\\(0.354+0.354j) & 0 & (0.354+0.354j) & 0 & (-0.354-0.354j) & 0 & (0.354+0.354j) & 0\\\\(-0.354-0.354j) & 0 & (0.354+0.354j) & 0 & (0.354+0.354j) & 0 & (0.354+0.354j) & 0\\\\(0.354-0.354j) & 0 & (0.354-0.354j) & 0 & (0.354-0.354j) & 0 & (-0.354+0.354j) & 0\\\\0 & (-0.354+0.354j) & 0 & (-0.354+0.354j) & 0 & (-0.354+0.354j) & 0 & (0.354-0.354j)\\\\0 & (-0.354-0.354j) & 0 & (0.354+0.354j) & 0 & (0.354+0.354j) & 0 & (0.354+0.354j)\\end{array}\\right)$$"
      ],
      "text/plain": [
       "Quantum object: dims=[[2, 2, 2], [2, 2, 2]], shape=(8, 8), type='oper', dtype=CSR, isherm=False\n",
       "Qobj data =\n",
       "[[ 0.        +0.j         -0.35355339-0.35355339j  0.        +0.j\n",
       "  -0.35355339-0.35355339j  0.        +0.j          0.35355339+0.35355339j\n",
       "   0.        +0.j         -0.35355339-0.35355339j]\n",
       " [ 0.        +0.j          0.35355339-0.35355339j  0.        +0.j\n",
       "  -0.35355339+0.35355339j  0.        +0.j          0.35355339-0.35355339j\n",
       "   0.        +0.j          0.35355339-0.35355339j]\n",
       " [ 0.35355339-0.35355339j  0.        +0.j         -0.35355339+0.35355339j\n",
       "   0.        +0.j          0.35355339-0.35355339j  0.        +0.j\n",
       "   0.35355339-0.35355339j  0.        +0.j        ]\n",
       " [ 0.35355339+0.35355339j  0.        +0.j          0.35355339+0.35355339j\n",
       "   0.        +0.j         -0.35355339-0.35355339j  0.        +0.j\n",
       "   0.35355339+0.35355339j  0.        +0.j        ]\n",
       " [-0.35355339-0.35355339j  0.        +0.j          0.35355339+0.35355339j\n",
       "   0.        +0.j          0.35355339+0.35355339j  0.        +0.j\n",
       "   0.35355339+0.35355339j  0.        +0.j        ]\n",
       " [ 0.35355339-0.35355339j  0.        +0.j          0.35355339-0.35355339j\n",
       "   0.        +0.j          0.35355339-0.35355339j  0.        +0.j\n",
       "  -0.35355339+0.35355339j  0.        +0.j        ]\n",
       " [ 0.        +0.j         -0.35355339+0.35355339j  0.        +0.j\n",
       "  -0.35355339+0.35355339j  0.        +0.j         -0.35355339+0.35355339j\n",
       "   0.        +0.j          0.35355339-0.35355339j]\n",
       " [ 0.        +0.j         -0.35355339-0.35355339j  0.        +0.j\n",
       "   0.35355339+0.35355339j  0.        +0.j          0.35355339+0.35355339j\n",
       "   0.        +0.j          0.35355339+0.35355339j]]"
      ]
     },
     "execution_count": 52,
     "metadata": {},
     "output_type": "execute_result"
    }
   ],
   "source": [
    "qutip_circ = read_qasm(qasm_str, strmode=True)\n",
    "gate_sequence_product(qutip_circ.propagators())"
   ]
  }
 ],
 "metadata": {
  "kernelspec": {
   "display_name": "base",
   "language": "python",
   "name": "python3"
  },
  "language_info": {
   "codemirror_mode": {
    "name": "ipython",
    "version": 3
   },
   "file_extension": ".py",
   "mimetype": "text/x-python",
   "name": "python",
   "nbconvert_exporter": "python",
   "pygments_lexer": "ipython3",
   "version": "3.12.7"
  }
 },
 "nbformat": 4,
 "nbformat_minor": 5
}
