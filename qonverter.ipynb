{
 "cells": [
  {
   "cell_type": "markdown",
   "id": "1c29d476",
   "metadata": {},
   "source": [
    "## Imports"
   ]
  },
  {
   "cell_type": "code",
   "execution_count": 23,
   "id": "beeaabae",
   "metadata": {},
   "outputs": [],
   "source": [
    "import numpy as np\n",
    "from qutip import about, basis, rand_ket, tensor\n",
    "from qutip_qip.operations import Measurement\n",
    "from qutip_qip.operations.gates import gate_sequence_product\n",
    "from qutip_qip.qasm import read_qasm, print_qasm"
   ]
  },
  {
   "cell_type": "markdown",
   "id": "4c314541",
   "metadata": {},
   "source": [
    "Random circuits: https://docs.quantum.ibm.com/api/qiskit/circuit_random#random-circuits"
   ]
  },
  {
   "cell_type": "code",
   "execution_count": 24,
   "id": "5426e7d4",
   "metadata": {},
   "outputs": [
    {
     "data": {
      "text/html": [
       "<pre style=\"word-wrap: normal;white-space: pre;background: #fff0;line-height: 1.1;font-family: &quot;Courier New&quot;,Courier,monospace\">                                         ┌────────┐                            »\n",
       "q_0: ────────────────────────────────────┤1       ├───────■─────────■──────────»\n",
       "             ┌───┐           ┌───┐  ┌───┐│        │┌───┐  │         │          »\n",
       "q_1: ───X────┤ X ├────────■──┤ H ├──┤ X ├┤        ├┤ S ├──┼─────────┼─────X────»\n",
       "        │    └───┘  ┌───┐ │  ├───┤  └─┬─┘│        │└───┘┌─┴─┐       │     │    »\n",
       "q_2: ───┼───────────┤ Y ├─┼──┤ Z ├────■──┤        ├─────┤ X ├──■────┼─────X────»\n",
       "        │           └─┬─┘ │  ├───┤  ┌───┐│  Iswap │     └───┘┌─┴─┐  │  ┌──────┐»\n",
       "q_3: ───X──────■──────■───┼──┤ I ├──┤ X ├┤        ├──────────┤ Y ├──┼──┤0     ├»\n",
       "      ┌───┐    │          │ ┌┴───┴─┐└───┘│        │          └───┘  │  │  Ecr │»\n",
       "q_4: ─┤ I ├────┼──────────┼─┤1     ├─────┤        ├─────────────────┼──┤1     ├»\n",
       "      └───┘  ┌─┴─┐        │ │  Dcx │     │        │                 │  └──────┘»\n",
       "q_5: ────────┤ X ├────────■─┤0     ├─────┤0       ├─────────────────┼──────────»\n",
       "     ┌─────┐┌┴───┴─┐        └──────┘     └────────┘               ┌─┴─┐ ┌───┐  »\n",
       "q_6: ┤ Sdg ├┤ √Xdg ├──────────────────────────────────────────────┤ Y ├─┤ I ├──»\n",
       "     └┬───┬┘└┬───┬─┘                                              └───┘ └───┘  »\n",
       "q_7: ─┤ Z ├──┤ X ├─────────────────────────────────────────────────────────────»\n",
       "      └───┘  └───┘                                                             »\n",
       "«                     ┌────────┐     ┌───┐        ┌──────┐          ┌──────┐»\n",
       "«q_0: ──────────────X─┤1       ├─────┤ X ├────────┤0     ├──────────┤1     ├»\n",
       "«      ┌───┐  ┌───┐ │ │        │     └─┬─┘        │      │          │      │»\n",
       "«q_1: ─┤ I ├──┤ X ├─┼─┤  Iswap ├───────┼──────────┤      ├──────────┤      ├»\n",
       "«     ┌┴───┴─┐├───┤ │ │        │       │   ┌───┐  │  Ecr │          │      │»\n",
       "«q_2: ┤0     ├┤ Z ├─X─┤0       ├──■────┼───┤ X ├──┤      ├───────■──┤      ├»\n",
       "«     │      │└───┘   └────────┘  │    │   └───┘  │      │┌───┐  │  │      │»\n",
       "«q_3: ┤      ├────────────────────┼────┼──────────┤1     ├┤ S ├──┼──┤  Ecr ├»\n",
       "«     │  Ecr │┌───┐               │    │          └──────┘└───┘┌─┴─┐│      │»\n",
       "«q_4: ┤      ├┤ Y ├───────────────┼────┼───────────────────────┤ X ├┤      ├»\n",
       "«     │      │└───┘               │    │  ┌──────┐ ┌───┐       └───┘│      │»\n",
       "«q_5: ┤1     ├────────────────────┼────■──┤ √Xdg ├─┤ I ├────────────┤      ├»\n",
       "«     └──────┘                    │       └──────┘ └───┘            │      │»\n",
       "«q_6: ────────────────────────────┼─────────────────────────────────┤0     ├»\n",
       "«                               ┌─┴─┐┌───┐ ┌───┐   ┌───┐            └──────┘»\n",
       "«q_7: ──────────────────────────┤ X ├┤ H ├─┤ X ├───┤ I ├────────────────────»\n",
       "«                               └───┘└───┘ └───┘   └───┘                    »\n",
       "«       ┌────┐             ┌────────┐                ┌──────┐            »\n",
       "«q_0: ──┤ √X ├─────────────┤0       ├─■───────■──────┤0     ├─────────■──»\n",
       "«       └────┘             │        │ │       │ ┌───┐│  Ecr │┌─────┐  │  »\n",
       "«q_1: ─────────────────────┤        ├─┼───■───┼─┤ S ├┤1     ├┤ Sdg ├──┼──»\n",
       "«      ┌─────┐             │        │ │   │   │ └───┘└──────┘└─────┘  │  »\n",
       "«q_2: ─┤ Sdg ├─────────────┤  Iswap ├─┼───┼───┼───────────────────────┼──»\n",
       "«      └┬───┬┘  ┌───┐      │        │ │   │   │              ┌─────┐  │  »\n",
       "«q_3: ──┤ X ├───┤ Z ├───■──┤        ├─┼───┼───┼─────────■────┤ Sdg ├──┼──»\n",
       "«     ┌─┴───┴──┐├───┴┐  │  │        │ │ ┌─┴─┐ │ ┌───┐   │    └┬───┬┘  │  »\n",
       "«q_4: ┤0       ├┤ √X ├──┼──┤1       ├─┼─┤ X ├─┼─┤ Y ├───┼─────┤ I ├───┼──»\n",
       "«     │        │└────┘  │  └────────┘ │ └───┘ │ └───┘   │     └───┘   │  »\n",
       "«q_5: ┤        ├────────┼─────────────┼───────┼─────────┼─────────────┼──»\n",
       "«     │  Iswap │      ┌─┴─┐           │       │         │             │  »\n",
       "«q_6: ┤        ├──────┤ X ├───────────┼───────■─────────■─────────────┼──»\n",
       "«     │        │      └───┘           │                             ┌─┴─┐»\n",
       "«q_7: ┤1       ├──────────────────────■─────────────────────────────┤ Y ├»\n",
       "«     └────────┘                                                    └───┘»\n",
       "«     ┌────────┐                                                               »\n",
       "«q_0: ┤1       ├──────────────────────────■────────────────────────────────────»\n",
       "«     │  Iswap │               ┌──────┐   │                                    »\n",
       "«q_1: ┤0       ├───────────────┤0     ├───■────────────────────────────────────»\n",
       "«     ├────────┤               │      │                ┌──────┐        ┌──────┐»\n",
       "«q_2: ┤0       ├────────────■──┤      ├───────────■────┤ √Xdg ├────────┤0     ├»\n",
       "«     │  Iswap │            │  │      │           │    └──────┘┌──────┐│      │»\n",
       "«q_3: ┤1       ├────────────┼──┤      ├───────────┼───────X────┤0     ├┤      ├»\n",
       "«     └─┬───┬──┘┌────────┐  │  │      │┌──────┐   │       │    │  Ecr ││  Ecr │»\n",
       "«q_4: ──┤ Z ├───┤1       ├──┼──┤  Dcx ├┤0     ├───┼───────┼────┤1     ├┤      ├»\n",
       "«       └───┘   │        │┌─┴─┐│      ││      │   │       │    └──────┘│      │»\n",
       "«q_5: ──────────┤  Iswap ├┤ X ├┤      ├┤  Dcx ├───■───────┼────────────┤1     ├»\n",
       "«               │        │├───┤│      ││      │┌──────┐   │     ┌───┐  ├─────┬┘»\n",
       "«q_6: ──────────┤0       ├┤ Y ├┤      ├┤1     ├┤ √Xdg ├───┼─────┤ S ├──┤ Sdg ├─»\n",
       "«               └────────┘└───┘│      │└──────┘└──────┘   │     └───┘  └─────┘ »\n",
       "«q_7: ─────────────────────────┤1     ├───────────────────X────────────────────»\n",
       "«                              └──────┘                                        »\n",
       "«                   ┌────────┐  ┌───┐             ┌───┐        \n",
       "«q_0: ────────────X─┤1       ├──┤ S ├──────────■──┤ X ├──■───■─\n",
       "«           ┌───┐ │ │        │  └───┘          │  └───┘  │   │ \n",
       "«q_1: ──X───┤ I ├─┼─┤        ├────X────────────┼─────────┼───■─\n",
       "«       │   ├───┤ │ │        │    │     ┌───┐  │         │     \n",
       "«q_2: ──X───┤ S ├─┼─┤        ├────┼─────┤ Y ├──┼─────────┼─────\n",
       "«     ┌────┐├───┤ │ │        │    │     └───┘  │       ┌─┴─┐   \n",
       "«q_3: ┤ √X ├┤ Y ├─X─┤        ├────┼────────────┼───────┤ X ├───\n",
       "«     └────┘└───┘   │  Iswap │    │            │       └───┘   \n",
       "«q_4: ──────────────┤        ├────┼────────────■────■────■─────\n",
       "«     ┌───┐ ┌───┐   │        │    │     ┌───┐┌───┐  │    │     \n",
       "«q_5: ┤ S ├─┤ Y ├───┤        ├────X─────┤ X ├┤ Z ├──┼────┼─────\n",
       "«     └───┘ └───┘   │        │┌────────┐└─┬─┘└───┘┌─┴─┐  │     \n",
       "«q_6: ──────────────┤        ├┤0       ├──┼───────┤ X ├──┼─────\n",
       "«                   │        ││  Iswap │  │       └───┘┌─┴─┐   \n",
       "«q_7: ──────────────┤0       ├┤1       ├──■────────────┤ X ├───\n",
       "«                   └────────┘└────────┘               └───┘   </pre>"
      ],
      "text/plain": [
       "                                         ┌────────┐                            »\n",
       "q_0: ────────────────────────────────────┤1       ├───────■─────────■──────────»\n",
       "             ┌───┐           ┌───┐  ┌───┐│        │┌───┐  │         │          »\n",
       "q_1: ───X────┤ X ├────────■──┤ H ├──┤ X ├┤        ├┤ S ├──┼─────────┼─────X────»\n",
       "        │    └───┘  ┌───┐ │  ├───┤  └─┬─┘│        │└───┘┌─┴─┐       │     │    »\n",
       "q_2: ───┼───────────┤ Y ├─┼──┤ Z ├────■──┤        ├─────┤ X ├──■────┼─────X────»\n",
       "        │           └─┬─┘ │  ├───┤  ┌───┐│  Iswap │     └───┘┌─┴─┐  │  ┌──────┐»\n",
       "q_3: ───X──────■──────■───┼──┤ I ├──┤ X ├┤        ├──────────┤ Y ├──┼──┤0     ├»\n",
       "      ┌───┐    │          │ ┌┴───┴─┐└───┘│        │          └───┘  │  │  Ecr │»\n",
       "q_4: ─┤ I ├────┼──────────┼─┤1     ├─────┤        ├─────────────────┼──┤1     ├»\n",
       "      └───┘  ┌─┴─┐        │ │  Dcx │     │        │                 │  └──────┘»\n",
       "q_5: ────────┤ X ├────────■─┤0     ├─────┤0       ├─────────────────┼──────────»\n",
       "     ┌─────┐┌┴───┴─┐        └──────┘     └────────┘               ┌─┴─┐ ┌───┐  »\n",
       "q_6: ┤ Sdg ├┤ √Xdg ├──────────────────────────────────────────────┤ Y ├─┤ I ├──»\n",
       "     └┬───┬┘└┬───┬─┘                                              └───┘ └───┘  »\n",
       "q_7: ─┤ Z ├──┤ X ├─────────────────────────────────────────────────────────────»\n",
       "      └───┘  └───┘                                                             »\n",
       "«                     ┌────────┐     ┌───┐        ┌──────┐          ┌──────┐»\n",
       "«q_0: ──────────────X─┤1       ├─────┤ X ├────────┤0     ├──────────┤1     ├»\n",
       "«      ┌───┐  ┌───┐ │ │        │     └─┬─┘        │      │          │      │»\n",
       "«q_1: ─┤ I ├──┤ X ├─┼─┤  Iswap ├───────┼──────────┤      ├──────────┤      ├»\n",
       "«     ┌┴───┴─┐├───┤ │ │        │       │   ┌───┐  │  Ecr │          │      │»\n",
       "«q_2: ┤0     ├┤ Z ├─X─┤0       ├──■────┼───┤ X ├──┤      ├───────■──┤      ├»\n",
       "«     │      │└───┘   └────────┘  │    │   └───┘  │      │┌───┐  │  │      │»\n",
       "«q_3: ┤      ├────────────────────┼────┼──────────┤1     ├┤ S ├──┼──┤  Ecr ├»\n",
       "«     │  Ecr │┌───┐               │    │          └──────┘└───┘┌─┴─┐│      │»\n",
       "«q_4: ┤      ├┤ Y ├───────────────┼────┼───────────────────────┤ X ├┤      ├»\n",
       "«     │      │└───┘               │    │  ┌──────┐ ┌───┐       └───┘│      │»\n",
       "«q_5: ┤1     ├────────────────────┼────■──┤ √Xdg ├─┤ I ├────────────┤      ├»\n",
       "«     └──────┘                    │       └──────┘ └───┘            │      │»\n",
       "«q_6: ────────────────────────────┼─────────────────────────────────┤0     ├»\n",
       "«                               ┌─┴─┐┌───┐ ┌───┐   ┌───┐            └──────┘»\n",
       "«q_7: ──────────────────────────┤ X ├┤ H ├─┤ X ├───┤ I ├────────────────────»\n",
       "«                               └───┘└───┘ └───┘   └───┘                    »\n",
       "«       ┌────┐             ┌────────┐                ┌──────┐            »\n",
       "«q_0: ──┤ √X ├─────────────┤0       ├─■───────■──────┤0     ├─────────■──»\n",
       "«       └────┘             │        │ │       │ ┌───┐│  Ecr │┌─────┐  │  »\n",
       "«q_1: ─────────────────────┤        ├─┼───■───┼─┤ S ├┤1     ├┤ Sdg ├──┼──»\n",
       "«      ┌─────┐             │        │ │   │   │ └───┘└──────┘└─────┘  │  »\n",
       "«q_2: ─┤ Sdg ├─────────────┤  Iswap ├─┼───┼───┼───────────────────────┼──»\n",
       "«      └┬───┬┘  ┌───┐      │        │ │   │   │              ┌─────┐  │  »\n",
       "«q_3: ──┤ X ├───┤ Z ├───■──┤        ├─┼───┼───┼─────────■────┤ Sdg ├──┼──»\n",
       "«     ┌─┴───┴──┐├───┴┐  │  │        │ │ ┌─┴─┐ │ ┌───┐   │    └┬───┬┘  │  »\n",
       "«q_4: ┤0       ├┤ √X ├──┼──┤1       ├─┼─┤ X ├─┼─┤ Y ├───┼─────┤ I ├───┼──»\n",
       "«     │        │└────┘  │  └────────┘ │ └───┘ │ └───┘   │     └───┘   │  »\n",
       "«q_5: ┤        ├────────┼─────────────┼───────┼─────────┼─────────────┼──»\n",
       "«     │  Iswap │      ┌─┴─┐           │       │         │             │  »\n",
       "«q_6: ┤        ├──────┤ X ├───────────┼───────■─────────■─────────────┼──»\n",
       "«     │        │      └───┘           │                             ┌─┴─┐»\n",
       "«q_7: ┤1       ├──────────────────────■─────────────────────────────┤ Y ├»\n",
       "«     └────────┘                                                    └───┘»\n",
       "«     ┌────────┐                                                               »\n",
       "«q_0: ┤1       ├──────────────────────────■────────────────────────────────────»\n",
       "«     │  Iswap │               ┌──────┐   │                                    »\n",
       "«q_1: ┤0       ├───────────────┤0     ├───■────────────────────────────────────»\n",
       "«     ├────────┤               │      │                ┌──────┐        ┌──────┐»\n",
       "«q_2: ┤0       ├────────────■──┤      ├───────────■────┤ √Xdg ├────────┤0     ├»\n",
       "«     │  Iswap │            │  │      │           │    └──────┘┌──────┐│      │»\n",
       "«q_3: ┤1       ├────────────┼──┤      ├───────────┼───────X────┤0     ├┤      ├»\n",
       "«     └─┬───┬──┘┌────────┐  │  │      │┌──────┐   │       │    │  Ecr ││  Ecr │»\n",
       "«q_4: ──┤ Z ├───┤1       ├──┼──┤  Dcx ├┤0     ├───┼───────┼────┤1     ├┤      ├»\n",
       "«       └───┘   │        │┌─┴─┐│      ││      │   │       │    └──────┘│      │»\n",
       "«q_5: ──────────┤  Iswap ├┤ X ├┤      ├┤  Dcx ├───■───────┼────────────┤1     ├»\n",
       "«               │        │├───┤│      ││      │┌──────┐   │     ┌───┐  ├─────┬┘»\n",
       "«q_6: ──────────┤0       ├┤ Y ├┤      ├┤1     ├┤ √Xdg ├───┼─────┤ S ├──┤ Sdg ├─»\n",
       "«               └────────┘└───┘│      │└──────┘└──────┘   │     └───┘  └─────┘ »\n",
       "«q_7: ─────────────────────────┤1     ├───────────────────X────────────────────»\n",
       "«                              └──────┘                                        »\n",
       "«                   ┌────────┐  ┌───┐             ┌───┐        \n",
       "«q_0: ────────────X─┤1       ├──┤ S ├──────────■──┤ X ├──■───■─\n",
       "«           ┌───┐ │ │        │  └───┘          │  └───┘  │   │ \n",
       "«q_1: ──X───┤ I ├─┼─┤        ├────X────────────┼─────────┼───■─\n",
       "«       │   ├───┤ │ │        │    │     ┌───┐  │         │     \n",
       "«q_2: ──X───┤ S ├─┼─┤        ├────┼─────┤ Y ├──┼─────────┼─────\n",
       "«     ┌────┐├───┤ │ │        │    │     └───┘  │       ┌─┴─┐   \n",
       "«q_3: ┤ √X ├┤ Y ├─X─┤        ├────┼────────────┼───────┤ X ├───\n",
       "«     └────┘└───┘   │  Iswap │    │            │       └───┘   \n",
       "«q_4: ──────────────┤        ├────┼────────────■────■────■─────\n",
       "«     ┌───┐ ┌───┐   │        │    │     ┌───┐┌───┐  │    │     \n",
       "«q_5: ┤ S ├─┤ Y ├───┤        ├────X─────┤ X ├┤ Z ├──┼────┼─────\n",
       "«     └───┘ └───┘   │        │┌────────┐└─┬─┘└───┘┌─┴─┐  │     \n",
       "«q_6: ──────────────┤        ├┤0       ├──┼───────┤ X ├──┼─────\n",
       "«                   │        ││  Iswap │  │       └───┘┌─┴─┐   \n",
       "«q_7: ──────────────┤0       ├┤1       ├──■────────────┤ X ├───\n",
       "«                   └────────┘└────────┘               └───┘   "
      ]
     },
     "execution_count": 24,
     "metadata": {},
     "output_type": "execute_result"
    }
   ],
   "source": [
    "#make a random quantum circuit with qiskit\n",
    "\n",
    "from qiskit.circuit.random import random_clifford_circuit\n",
    " \n",
    "qiskit_circ = random_clifford_circuit(num_qubits=8, num_gates=100)\n",
    "qiskit_circ.draw()"
   ]
  },
  {
   "cell_type": "markdown",
   "id": "a87b084c",
   "metadata": {},
   "source": [
    "Convert to qasm via Qiskit: https://docs.quantum.ibm.com/api/qiskit/qasm2#exporting-examples"
   ]
  },
  {
   "cell_type": "code",
   "execution_count": 25,
   "id": "83494a9c",
   "metadata": {},
   "outputs": [
    {
     "name": "stdout",
     "output_type": "stream",
     "text": [
      "OPENQASM 2.0;\n",
      "include \"qelib1.inc\";\n",
      "gate dcx q0,q1 { cx q0,q1; cx q1,q0; }\n",
      "gate iswap q0,q1 { s q0; s q1; h q0; cx q0,q1; cx q1,q0; h q1; }\n",
      "gate rzx(param0) q0,q1 { h q1; cx q0,q1; rz(param0) q1; cx q0,q1; h q1; }\n",
      "gate ecr q0,q1 { rzx(pi/4) q0,q1; x q0; rzx(-pi/4) q0,q1; }\n",
      "qreg q[8];\n",
      "swap q[1],q[3];\n",
      "x q[1];\n",
      "cx q[3],q[5];\n",
      "id q[4];\n",
      "cy q[3],q[2];\n",
      "z q[2];\n",
      "cz q[5],q[1];\n",
      "h q[1];\n",
      "cx q[2],q[1];\n",
      "sdg q[6];\n",
      "id q[3];\n",
      "x q[3];\n",
      "s q[1];\n",
      "dcx q[5],q[4];\n",
      "iswap q[5],q[0];\n",
      "cx q[0],q[2];\n",
      "cy q[2],q[3];\n",
      "ecr q[3],q[4];\n",
      "sxdg q[6];\n",
      "swap q[1],q[2];\n",
      "ecr q[2],q[5];\n",
      "z q[7];\n",
      "x q[7];\n",
      "z q[2];\n",
      "cy q[0],q[6];\n",
      "swap q[2],q[0];\n",
      "iswap q[2],q[0];\n",
      "cx q[2],q[7];\n",
      "y q[4];\n",
      "h q[7];\n",
      "x q[2];\n",
      "cx q[5],q[0];\n",
      "id q[6];\n",
      "ecr q[0],q[3];\n",
      "x q[7];\n",
      "s q[3];\n",
      "cx q[2],q[4];\n",
      "ecr q[6],q[0];\n",
      "id q[7];\n",
      "x q[3];\n",
      "id q[1];\n",
      "iswap q[4],q[7];\n",
      "z q[3];\n",
      "sx q[0];\n",
      "sx q[4];\n",
      "sxdg q[5];\n",
      "iswap q[0],q[4];\n",
      "id q[5];\n",
      "cz q[0],q[7];\n",
      "cx q[3],q[6];\n",
      "x q[1];\n",
      "cx q[1],q[4];\n",
      "cz q[6],q[0];\n",
      "y q[4];\n",
      "s q[1];\n",
      "ecr q[0],q[1];\n",
      "cz q[3],q[6];\n",
      "sdg q[3];\n",
      "sdg q[2];\n",
      "id q[4];\n",
      "sdg q[1];\n",
      "cy q[0],q[7];\n",
      "iswap q[2],q[3];\n",
      "z q[4];\n",
      "iswap q[1],q[0];\n",
      "iswap q[6],q[4];\n",
      "cx q[2],q[5];\n",
      "dcx q[1],q[7];\n",
      "y q[6];\n",
      "dcx q[4],q[6];\n",
      "cz q[5],q[2];\n",
      "sxdg q[2];\n",
      "sxdg q[6];\n",
      "ecr q[2],q[5];\n",
      "swap q[7],q[3];\n",
      "ecr q[3],q[4];\n",
      "sx q[3];\n",
      "s q[6];\n",
      "cz q[0],q[1];\n",
      "s q[5];\n",
      "swap q[2],q[1];\n",
      "id q[1];\n",
      "y q[3];\n",
      "sdg q[6];\n",
      "swap q[3],q[0];\n",
      "iswap q[7],q[0];\n",
      "y q[5];\n",
      "s q[2];\n",
      "s q[0];\n",
      "swap q[5],q[1];\n",
      "iswap q[6],q[7];\n",
      "y q[2];\n",
      "cz q[0],q[4];\n",
      "x q[0];\n",
      "cx q[7],q[5];\n",
      "cx q[4],q[6];\n",
      "cx q[0],q[3];\n",
      "z q[5];\n",
      "cz q[0],q[1];\n",
      "cx q[4],q[7];\n"
     ]
    }
   ],
   "source": [
    "import qiskit.qasm2\n",
    "from qiskit.circuit import QuantumCircuit\n",
    " \n",
    "print(qiskit.qasm2.dumps(qiskit_circ))"
   ]
  },
  {
   "cell_type": "code",
   "execution_count": 26,
   "id": "e5c73133",
   "metadata": {},
   "outputs": [],
   "source": [
    "#Now add it to a file for clarity\n",
    "\n",
    "qiskit.qasm2.dump(qiskit_circ, \"random_circuit.qasm\")\n",
    "path = \"random_circuit.qasm\""
   ]
  },
  {
   "cell_type": "markdown",
   "id": "de5e47f4",
   "metadata": {},
   "source": [
    "## QASM Conversion "
   ]
  },
  {
   "cell_type": "markdown",
   "id": "b651c3a2",
   "metadata": {},
   "source": [
    "### Imports"
   ]
  },
  {
   "cell_type": "code",
   "execution_count": 27,
   "id": "e35283b9",
   "metadata": {},
   "outputs": [],
   "source": [
    "import numpy as np\n",
    "from qutip import about, basis, rand_ket, tensor\n",
    "from qutip_qip.operations import Measurement\n",
    "from qutip_qip.operations.gates import gate_sequence_product\n",
    "from qutip_qip.qasm import read_qasm, print_qasm\n",
    "import qutip as qt"
   ]
  },
  {
   "cell_type": "markdown",
   "id": "4b460007",
   "metadata": {},
   "source": [
    "### Read in the file to a string"
   ]
  },
  {
   "cell_type": "code",
   "execution_count": 28,
   "id": "f038c8b2",
   "metadata": {},
   "outputs": [],
   "source": [
    "with open(path, 'r') as file:\n",
    "    qasm_str = file.read()"
   ]
  },
  {
   "cell_type": "code",
   "execution_count": 29,
   "id": "b5bd1fcc",
   "metadata": {},
   "outputs": [
    {
     "data": {
      "text/plain": [
       "str"
      ]
     },
     "execution_count": 29,
     "metadata": {},
     "output_type": "execute_result"
    }
   ],
   "source": [
    "type(qasm_str)"
   ]
  },
  {
   "cell_type": "markdown",
   "id": "c1ab4372",
   "metadata": {},
   "source": [
    "### Append basic gate definitions to the string"
   ]
  },
  {
   "cell_type": "markdown",
   "id": "ff436afa",
   "metadata": {},
   "source": [
    "For more definitions, see this repo: https://github.com/HQSquantumsimulations/qoqo_qasm/blob/aff4aba03ae12e12599ed11b98c9b7ecaef0c021/roqoqo-qasm/src/interface.rs#L1345"
   ]
  },
  {
   "cell_type": "code",
   "execution_count": 30,
   "id": "c5346e0a",
   "metadata": {},
   "outputs": [],
   "source": [
    "# Insert gate definitions after the 'include' line in qasm_str\n",
    "\n",
    "swap_gate_def = [\n",
    "    'gate swap a, b{',\n",
    "    'cx b, a;',\n",
    "    'cx a, b;',\n",
    "    'cx b, a;',\n",
    "    '}'\n",
    "]\n",
    "\n",
    "sx_gate_def = [\n",
    "    'gate sx a {',\n",
    "    'u1(-pi/2) a;',\n",
    "    'u2(0,pi) a;',\n",
    "    'u1(-pi/2) a;',\n",
    "    '}'\n",
    "]\n",
    "\n",
    "sxdg_gate_def = [\n",
    "    'gate sxdg a {',\n",
    "    'u1(pi/2) a;',\n",
    "    'u2(0,pi) a;',\n",
    "    'u1(pi/2) a;',\n",
    "    '}'\n",
    "]\n",
    "\n",
    "lines = qasm_str.splitlines()\n",
    "for i, line in enumerate(lines):\n",
    "    if line.strip().startswith('include'):\n",
    "        insert_idx = i + 1\n",
    "        break\n",
    "\n",
    "gate_defs = swap_gate_def + [''] + sx_gate_def + [''] + sxdg_gate_def + ['']\n",
    "lines[insert_idx:insert_idx] = gate_defs\n",
    "qasm_str = '\\n'.join(lines)"
   ]
  },
  {
   "cell_type": "markdown",
   "id": "6b5f28b7",
   "metadata": {},
   "source": [
    "### Review the string using the built-in qasm to qutip conversion tools"
   ]
  },
  {
   "cell_type": "code",
   "execution_count": 31,
   "id": "9802cef8",
   "metadata": {},
   "outputs": [
    {
     "name": "stderr",
     "output_type": "stream",
     "text": [
      "c:\\Users\\Owner\\anaconda3\\Lib\\site-packages\\qutip_qip\\qasm.py:279: UserWarning: \"qelib1.inc\"not found, ignored.\n",
      "  warnings.warn(command[1] + \"not found, ignored.\")\n"
     ]
    },
    {
     "data": {
      "text/latex": [
       "Quantum object: dims=[[2, 2, 2, 2, 2, 2, 2, 2], [2, 2, 2, 2, 2, 2, 2, 2]], shape=(256, 256), type='oper', dtype=CSR, isherm=False$$\\left(\\begin{array}{cc}0 & 0.088j & 0 & 0.088 & 0 & \\cdots & -0.088j & 0 & 0.088 & 0 & 0.088j\\\\0 & -0.088 & 0 & 0.088j & 0 & \\cdots & 0.088 & 0 & 0.088j & 0 & -0.088\\\\0 & 0.088j & 0 & -0.088 & 0 & \\cdots & 0.088j & 0 & -0.088 & 0 & 0.088j\\\\0 & 0.088 & 0 & 0.088j & 0 & \\cdots & 0.088 & 0 & 0.088j & 0 & 0.088\\\\0 & 0.088j & 0 & 0.088 & 0 & \\cdots & 0.088j & 0 & 0.088 & 0 & 0.088j\\\\\\vdots & \\vdots & \\vdots & \\vdots & \\vdots & \\ddots & \\vdots & \\vdots & \\vdots & \\vdots & \\vdots\\\\0 & -0.088j & 0 & 0.088 & 0 & \\cdots & -0.088j & 0 & -0.088 & 0 & 0.088j\\\\0 & -0.088 & 0 & 0.088j & 0 & \\cdots & -0.088 & 0 & -0.088j & 0 & 0.088\\\\0 & 0.088j & 0 & 0.088 & 0 & \\cdots & 0.088j & 0 & -0.088 & 0 & -0.088j\\\\0 & -0.088 & 0 & -0.088j & 0 & \\cdots & 0.088 & 0 & 0.088j & 0 & 0.088\\\\0 & -0.088j & 0 & 0.088 & 0 & \\cdots & 0.088j & 0 & -0.088 & 0 & 0.088j\\end{array}\\right)$$"
      ],
      "text/plain": [
       "Quantum object: dims=[[2, 2, 2, 2, 2, 2, 2, 2], [2, 2, 2, 2, 2, 2, 2, 2]], shape=(256, 256), type='oper', dtype=CSR, isherm=False\n",
       "Qobj data =\n",
       "[[ 0.        +0.j          0.        +0.08838835j  0.        +0.j\n",
       "  ...  0.08838835+0.j          0.        +0.j\n",
       "   0.        +0.08838835j]\n",
       " [ 0.        +0.j         -0.08838835+0.j          0.        +0.j\n",
       "  ...  0.        +0.08838835j  0.        +0.j\n",
       "  -0.08838835+0.j        ]\n",
       " [ 0.        +0.j          0.        +0.08838835j  0.        +0.j\n",
       "  ... -0.08838835+0.j          0.        +0.j\n",
       "   0.        +0.08838835j]\n",
       " ...\n",
       " [ 0.        +0.j          0.        +0.08838835j  0.        +0.j\n",
       "  ... -0.08838835+0.j          0.        +0.j\n",
       "   0.        -0.08838835j]\n",
       " [ 0.        +0.j         -0.08838835+0.j          0.        +0.j\n",
       "  ...  0.        +0.08838835j  0.        +0.j\n",
       "   0.08838835+0.j        ]\n",
       " [ 0.        +0.j          0.        -0.08838835j  0.        +0.j\n",
       "  ... -0.08838835+0.j          0.        +0.j\n",
       "   0.        +0.08838835j]]"
      ]
     },
     "execution_count": 31,
     "metadata": {},
     "output_type": "execute_result"
    }
   ],
   "source": [
    "qutip_circ = read_qasm(qasm_str, strmode=True)\n",
    "gate_sequence_product(qutip_circ.propagators())"
   ]
  },
  {
   "cell_type": "code",
   "execution_count": 32,
   "id": "0d1b7376",
   "metadata": {},
   "outputs": [
    {
     "name": "stdout",
     "output_type": "stream",
     "text": [
      "\n",
      "QuTiP: Quantum Toolbox in Python\n",
      "================================\n",
      "Copyright (c) QuTiP team 2011 and later.\n",
      "Current admin team: Alexander Pitchford, Nathan Shammah, Shahnawaz Ahmed, Neill Lambert, Eric Giguère, Boxi Li, Simon Cross, Asier Galicia, Paul Menczel, and Patrick Hopf.\n",
      "Board members: Daniel Burgarth, Robert Johansson, Anton F. Kockum, Franco Nori and Will Zeng.\n",
      "Original developers: R. J. Johansson & P. D. Nation.\n",
      "Previous lead developers: Chris Granade & A. Grimsmo.\n",
      "Currently developed through wide collaboration. See https://github.com/qutip for details.\n",
      "\n",
      "QuTiP Version:      5.2.0\n",
      "Numpy Version:      1.26.4\n",
      "Scipy Version:      1.13.1\n",
      "Cython Version:     None\n",
      "Matplotlib Version: 3.9.2\n",
      "Python Version:     3.12.7\n",
      "Number of CPUs:     16\n",
      "BLAS Info:          Generic\n",
      "INTEL MKL Ext:      None\n",
      "Platform Info:      Windows (AMD64)\n",
      "Installation path:  c:\\Users\\Owner\\anaconda3\\Lib\\site-packages\\qutip\n",
      "\n",
      "Installed QuTiP family packages\n",
      "-------------------------------\n",
      "\n",
      "qutip-qip: 0.4.1\n",
      "qutip-qtrl: 0.1.5\n",
      "\n",
      "================================================================================\n",
      "Please cite QuTiP in your publication.\n",
      "================================================================================\n",
      "For your convenience a bibtex reference can be easily generated using `qutip.cite()`\n"
     ]
    }
   ],
   "source": [
    "qt.about()"
   ]
  }
 ],
 "metadata": {
  "kernelspec": {
   "display_name": "base",
   "language": "python",
   "name": "python3"
  },
  "language_info": {
   "codemirror_mode": {
    "name": "ipython",
    "version": 3
   },
   "file_extension": ".py",
   "mimetype": "text/x-python",
   "name": "python",
   "nbconvert_exporter": "python",
   "pygments_lexer": "ipython3",
   "version": "3.12.7"
  }
 },
 "nbformat": 4,
 "nbformat_minor": 5
}
