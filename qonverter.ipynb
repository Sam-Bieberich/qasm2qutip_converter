{
 "cells": [
  {
   "cell_type": "markdown",
   "id": "1c29d476",
   "metadata": {},
   "source": [
    "## Imports"
   ]
  },
  {
   "cell_type": "code",
   "execution_count": 178,
   "id": "beeaabae",
   "metadata": {},
   "outputs": [],
   "source": [
    "import numpy as np\n",
    "from qutip import about, basis, rand_ket, tensor\n",
    "from qutip_qip.operations import Measurement\n",
    "from qutip_qip.operations.gates import gate_sequence_product\n",
    "from qutip_qip.qasm import read_qasm, print_qasm"
   ]
  },
  {
   "cell_type": "markdown",
   "id": "4c314541",
   "metadata": {},
   "source": [
    "Random circuits: https://docs.quantum.ibm.com/api/qiskit/circuit_random#random-circuits"
   ]
  },
  {
   "cell_type": "code",
   "execution_count": 179,
   "id": "5426e7d4",
   "metadata": {},
   "outputs": [
    {
     "data": {
      "text/html": [
       "<pre style=\"word-wrap: normal;white-space: pre;background: #fff0;line-height: 1.1;font-family: &quot;Courier New&quot;,Courier,monospace\">     ┌───┐┌───┐                                   ┌───┐┌──────┐          ┌───┐\n",
       "q_0: ┤ Y ├┤ X ├────────────────────────────────■──┤ Z ├┤ √Xdg ├──────────┤ X ├\n",
       "     ├───┤├───┤   ┌───┐     ┌───┐┌─────┐       │  └───┘└──────┘┌────────┐└─┬─┘\n",
       "q_1: ┤ Y ├┤ Z ├─X─┤ X ├─────┤ Y ├┤ Sdg ├──■────┼──────────X────┤0       ├──■──\n",
       "     ├───┤├───┤ │ └─┬─┘┌───┐└─┬─┘├─────┤┌─┴─┐┌─┴─┐┌───┐   │    │  Iswap │     \n",
       "q_2: ┤ S ├┤ Y ├─X───■──┤ Y ├──■──┤ Sdg ├┤ X ├┤ X ├┤ X ├───X────┤1       ├─────\n",
       "     └───┘└───┘        └───┘     └─────┘└───┘└───┘└───┘        └────────┘     </pre>"
      ],
      "text/plain": [
       "     ┌───┐┌───┐                                   ┌───┐┌──────┐          ┌───┐\n",
       "q_0: ┤ Y ├┤ X ├────────────────────────────────■──┤ Z ├┤ √Xdg ├──────────┤ X ├\n",
       "     ├───┤├───┤   ┌───┐     ┌───┐┌─────┐       │  └───┘└──────┘┌────────┐└─┬─┘\n",
       "q_1: ┤ Y ├┤ Z ├─X─┤ X ├─────┤ Y ├┤ Sdg ├──■────┼──────────X────┤0       ├──■──\n",
       "     ├───┤├───┤ │ └─┬─┘┌───┐└─┬─┘├─────┤┌─┴─┐┌─┴─┐┌───┐   │    │  Iswap │     \n",
       "q_2: ┤ S ├┤ Y ├─X───■──┤ Y ├──■──┤ Sdg ├┤ X ├┤ X ├┤ X ├───X────┤1       ├─────\n",
       "     └───┘└───┘        └───┘     └─────┘└───┘└───┘└───┘        └────────┘     "
      ]
     },
     "execution_count": 179,
     "metadata": {},
     "output_type": "execute_result"
    }
   ],
   "source": [
    "#make a random quantum circuit with qiskit\n",
    "\n",
    "from qiskit.circuit.random import random_clifford_circuit\n",
    " \n",
    "qiskit_circ = random_clifford_circuit(num_qubits=3, num_gates=20)\n",
    "qiskit_circ.draw()"
   ]
  },
  {
   "cell_type": "markdown",
   "id": "a87b084c",
   "metadata": {},
   "source": [
    "Convert to qasm via Qiskit: https://docs.quantum.ibm.com/api/qiskit/qasm2#exporting-examples"
   ]
  },
  {
   "cell_type": "code",
   "execution_count": 180,
   "id": "83494a9c",
   "metadata": {},
   "outputs": [
    {
     "name": "stdout",
     "output_type": "stream",
     "text": [
      "OPENQASM 2.0;\n",
      "include \"qelib1.inc\";\n",
      "gate iswap q0,q1 { s q0; s q1; h q0; cx q0,q1; cx q1,q0; h q1; }\n",
      "qreg q[3];\n",
      "y q[1];\n",
      "z q[1];\n",
      "s q[2];\n",
      "y q[0];\n",
      "y q[2];\n",
      "swap q[1],q[2];\n",
      "x q[0];\n",
      "cx q[2],q[1];\n",
      "y q[2];\n",
      "cy q[2],q[1];\n",
      "sdg q[2];\n",
      "sdg q[1];\n",
      "cx q[1],q[2];\n",
      "cx q[0],q[2];\n",
      "z q[0];\n",
      "x q[2];\n",
      "sxdg q[0];\n",
      "swap q[1],q[2];\n",
      "iswap q[1],q[2];\n",
      "cx q[1],q[0];\n"
     ]
    }
   ],
   "source": [
    "import qiskit.qasm2\n",
    "from qiskit.circuit import QuantumCircuit\n",
    " \n",
    "print(qiskit.qasm2.dumps(qiskit_circ))"
   ]
  },
  {
   "cell_type": "code",
   "execution_count": 181,
   "id": "e5c73133",
   "metadata": {},
   "outputs": [],
   "source": [
    "#Now add it to a file for clarity\n",
    "\n",
    "qiskit.qasm2.dump(qiskit_circ, \"random_circuit.qasm\")"
   ]
  },
  {
   "cell_type": "markdown",
   "id": "eb9410cd",
   "metadata": {},
   "source": [
    "## QASM Completed ^"
   ]
  },
  {
   "cell_type": "markdown",
   "id": "de5e47f4",
   "metadata": {},
   "source": [
    "## QASM Conversion "
   ]
  },
  {
   "cell_type": "markdown",
   "id": "b651c3a2",
   "metadata": {},
   "source": [
    "### Imports"
   ]
  },
  {
   "cell_type": "code",
   "execution_count": 182,
   "id": "e35283b9",
   "metadata": {},
   "outputs": [],
   "source": [
    "import numpy as np\n",
    "from qutip import about, basis, rand_ket, tensor\n",
    "from qutip_qip.operations import Measurement\n",
    "from qutip_qip.operations.gates import gate_sequence_product\n",
    "from qutip_qip.qasm import read_qasm, print_qasm"
   ]
  },
  {
   "cell_type": "markdown",
   "id": "4b460007",
   "metadata": {},
   "source": [
    "### Read in the file to a string"
   ]
  },
  {
   "cell_type": "code",
   "execution_count": 183,
   "id": "f038c8b2",
   "metadata": {},
   "outputs": [],
   "source": [
    "with open(path, 'r') as file:\n",
    "    qasm_str = file.read()"
   ]
  },
  {
   "cell_type": "code",
   "execution_count": 184,
   "id": "b5bd1fcc",
   "metadata": {},
   "outputs": [
    {
     "data": {
      "text/plain": [
       "str"
      ]
     },
     "execution_count": 184,
     "metadata": {},
     "output_type": "execute_result"
    }
   ],
   "source": [
    "type(qasm_str)"
   ]
  },
  {
   "cell_type": "code",
   "execution_count": 185,
   "id": "0e8a83fd",
   "metadata": {},
   "outputs": [
    {
     "name": "stdout",
     "output_type": "stream",
     "text": [
      "OPENQASM 2.0;\n",
      "include \"qelib1.inc\";\n",
      "gate iswap q0,q1 { s q0; s q1; h q0; cx q0,q1; cx q1,q0; h q1; }\n",
      "qreg q[3];\n",
      "y q[1];\n",
      "z q[1];\n",
      "s q[2];\n",
      "y q[0];\n",
      "y q[2];\n",
      "swap q[1],q[2];\n",
      "x q[0];\n",
      "cx q[2],q[1];\n",
      "y q[2];\n",
      "cy q[2],q[1];\n",
      "sdg q[2];\n",
      "sdg q[1];\n",
      "cx q[1],q[2];\n",
      "cx q[0],q[2];\n",
      "z q[0];\n",
      "x q[2];\n",
      "sxdg q[0];\n",
      "swap q[1],q[2];\n",
      "iswap q[1],q[2];\n",
      "cx q[1],q[0];\n",
      "\n"
     ]
    }
   ],
   "source": [
    "print(qasm_str)"
   ]
  },
  {
   "cell_type": "code",
   "execution_count": 186,
   "id": "477bd19a",
   "metadata": {},
   "outputs": [
    {
     "name": "stdout",
     "output_type": "stream",
     "text": [
      "global phase: 7π/4\n",
      "   ┌───┐┌───┐┌───┐\n",
      "q: ┤ S ├┤ H ├┤ S ├\n",
      "   └───┘└───┘└───┘\n"
     ]
    }
   ],
   "source": [
    "from qiskit.circuit.library import SXdgGate\n",
    "\n",
    "# Decompose the SXdg gate using Qiskit\n",
    "sxdg_gate = SXdgGate()\n",
    "decomposition_circuit = sxdg_gate.definition\n",
    "print(decomposition_circuit.draw())"
   ]
  },
  {
   "cell_type": "markdown",
   "id": "c1ab4372",
   "metadata": {},
   "source": [
    "### Append basic gate definitions to the string"
   ]
  },
  {
   "cell_type": "code",
   "execution_count": null,
   "id": "eb14e859",
   "metadata": {},
   "outputs": [
    {
     "name": "stdout",
     "output_type": "stream",
     "text": [
      "OPENQASM 2.0;\n",
      "include \"qelib1.inc\";\n",
      "gate swap a, b{\n",
      "cx b, a;\n",
      "gate sx a {u1(-pi/2) a;u2(0,pi) a;u1(-pi/2) a;}\n",
      "cx a, b;\n",
      "cx b, a;\n",
      "\n",
      "}\n",
      "gate iswap q0,q1 { s q0; s q1; h q0; cx q0,q1; cx q1,q0; h q1; }\n",
      "qreg q[3];\n",
      "y q[1];\n",
      "z q[1];\n",
      "s q[2];\n",
      "y q[0];\n",
      "y q[2];\n",
      "swap q[1],q[2];\n",
      "x q[0];\n",
      "cx q[2],q[1];\n",
      "y q[2];\n",
      "cy q[2],q[1];\n",
      "sdg q[2];\n",
      "sdg q[1];\n",
      "cx q[1],q[2];\n",
      "cx q[0],q[2];\n",
      "z q[0];\n",
      "x q[2];\n",
      "sxdg q[0];\n",
      "swap q[1],q[2];\n",
      "iswap q[1],q[2];\n",
      "cx q[1],q[0];\n"
     ]
    }
   ],
   "source": [
    "#swap gate\n",
    "\n",
    "lines = qasm_str.splitlines()\n",
    "for i, line in enumerate(lines):\n",
    "    if line.strip().startswith('include'):\n",
    "        insert_idx = i + 1\n",
    "        break\n",
    "\n",
    "swap_gate_def = [\n",
    "    'gate swap a, b{',\n",
    "    'cx b, a;',\n",
    "    'cx a, b;',\n",
    "    'cx b, a;',\n",
    "    '}'\n",
    "]\n",
    "\n",
    "sx_gate_def = [\n",
    "    'gate sx a {'\n",
    "    'u1(-pi/2) a;'\n",
    "    'u2(0,pi) a;'\n",
    "    'u1(-pi/2) a;'\n",
    "    '}'\n",
    "]\n",
    "\n",
    "lines[insert_idx:insert_idx] = swap_gate_def\n",
    "lines.insert(insert_idx + 5, '')\n",
    "lines[insert_idx + 2:insert_idx + 2] = sx_gate_def\n",
    "qasm_str = '\\n'.join(lines)\n",
    "\n",
    "print(qasm_str)"
   ]
  },
  {
   "cell_type": "markdown",
   "id": "6b5f28b7",
   "metadata": {},
   "source": [
    "### Review the string using the built-in qasm to qutip conversion tools"
   ]
  },
  {
   "cell_type": "code",
   "execution_count": 188,
   "id": "9802cef8",
   "metadata": {},
   "outputs": [
    {
     "ename": "SyntaxError",
     "evalue": "QASM: incorrect bracket formatting (<string>)",
     "output_type": "error",
     "traceback": [
      "Traceback \u001b[1;36m(most recent call last)\u001b[0m:\n",
      "\u001b[0m  File \u001b[0;32mc:\\Users\\Owner\\anaconda3\\Lib\\site-packages\\IPython\\core\\interactiveshell.py:3577\u001b[0m in \u001b[0;35mrun_code\u001b[0m\n    exec(code_obj, self.user_global_ns, self.user_ns)\u001b[0m\n",
      "\u001b[0m  Cell \u001b[0;32mIn[188], line 1\u001b[0m\n    qutip_circ = read_qasm(qasm_str, strmode=True)\u001b[0m\n",
      "\u001b[0m  File \u001b[0;32mc:\\Users\\Owner\\anaconda3\\Lib\\site-packages\\qutip_qip\\qasm.py:935\u001b[0m in \u001b[0;35mread_qasm\u001b[0m\n    qasm_obj._initialize_pass()\u001b[0m\n",
      "\u001b[1;36m  File \u001b[1;32mc:\\Users\\Owner\\anaconda3\\Lib\\site-packages\\qutip_qip\\qasm.py:314\u001b[1;36m in \u001b[1;35m_initialize_pass\u001b[1;36m\n\u001b[1;33m    raise SyntaxError(\"QASM: incorrect bracket formatting\")\u001b[1;36m\n",
      "\u001b[1;36m  File \u001b[1;32m<string>\u001b[1;36m\u001b[0m\n\u001b[1;31mSyntaxError\u001b[0m\u001b[1;31m:\u001b[0m QASM: incorrect bracket formatting\n"
     ]
    }
   ],
   "source": [
    "qutip_circ = read_qasm(qasm_str, strmode=True)\n",
    "gate_sequence_product(qutip_circ.propagators())"
   ]
  }
 ],
 "metadata": {
  "kernelspec": {
   "display_name": "base",
   "language": "python",
   "name": "python3"
  },
  "language_info": {
   "codemirror_mode": {
    "name": "ipython",
    "version": 3
   },
   "file_extension": ".py",
   "mimetype": "text/x-python",
   "name": "python",
   "nbconvert_exporter": "python",
   "pygments_lexer": "ipython3",
   "version": "3.12.7"
  }
 },
 "nbformat": 4,
 "nbformat_minor": 5
}
